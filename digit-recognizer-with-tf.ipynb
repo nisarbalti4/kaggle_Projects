{
 "cells": [
  {
   "cell_type": "code",
   "execution_count": 1,
   "id": "95262817",
   "metadata": {
    "_cell_guid": "b1076dfc-b9ad-4769-8c92-a6c4dae69d19",
    "_uuid": "8f2839f25d086af736a60e9eeb907d3b93b6e0e5",
    "execution": {
     "iopub.execute_input": "2023-06-25T19:21:29.299468Z",
     "iopub.status.busy": "2023-06-25T19:21:29.298733Z",
     "iopub.status.idle": "2023-06-25T19:21:29.311760Z",
     "shell.execute_reply": "2023-06-25T19:21:29.310483Z"
    },
    "papermill": {
     "duration": 0.024566,
     "end_time": "2023-06-25T19:21:29.314497",
     "exception": false,
     "start_time": "2023-06-25T19:21:29.289931",
     "status": "completed"
    },
    "tags": []
   },
   "outputs": [
    {
     "name": "stdout",
     "output_type": "stream",
     "text": [
      "/kaggle/input/digit-recognizer/sample_submission.csv\n",
      "/kaggle/input/digit-recognizer/train.csv\n",
      "/kaggle/input/digit-recognizer/test.csv\n"
     ]
    }
   ],
   "source": [
    "# This Python 3 environment comes with many helpful analytics libraries installed\n",
    "# It is defined by the kaggle/python Docker image: https://github.com/kaggle/docker-python\n",
    "# For example, here's several helpful packages to load\n",
    "\n",
    "import numpy as np # linear algebra\n",
    "import pandas as pd # data processing, CSV file I/O (e.g. pd.read_csv)\n",
    "\n",
    "# Input data files are available in the read-only \"../input/\" directory\n",
    "# For example, running this (by clicking run or pressing Shift+Enter) will list all files under the input directory\n",
    "\n",
    "import os\n",
    "for dirname, _, filenames in os.walk('/kaggle/input'):\n",
    "    for filename in filenames:\n",
    "        print(os.path.join(dirname, filename))\n",
    "\n",
    "# You can write up to 20GB to the current directory (/kaggle/working/) that gets preserved as output when you create a version using \"Save & Run All\" \n",
    "# You can also write temporary files to /kaggle/temp/, but they won't be saved outside of the current session"
   ]
  },
  {
   "cell_type": "markdown",
   "id": "b6433831",
   "metadata": {
    "papermill": {
     "duration": 0.004992,
     "end_time": "2023-06-25T19:21:29.325002",
     "exception": false,
     "start_time": "2023-06-25T19:21:29.320010",
     "status": "completed"
    },
    "tags": []
   },
   "source": [
    "libraries Needed****"
   ]
  },
  {
   "cell_type": "code",
   "execution_count": 2,
   "id": "37608d64",
   "metadata": {
    "execution": {
     "iopub.execute_input": "2023-06-25T19:21:29.337741Z",
     "iopub.status.busy": "2023-06-25T19:21:29.336727Z",
     "iopub.status.idle": "2023-06-25T19:21:38.584548Z",
     "shell.execute_reply": "2023-06-25T19:21:38.583543Z"
    },
    "papermill": {
     "duration": 9.256769,
     "end_time": "2023-06-25T19:21:38.587107",
     "exception": false,
     "start_time": "2023-06-25T19:21:29.330338",
     "status": "completed"
    },
    "tags": []
   },
   "outputs": [
    {
     "name": "stderr",
     "output_type": "stream",
     "text": [
      "/opt/conda/lib/python3.10/site-packages/tensorflow_io/python/ops/__init__.py:98: UserWarning: unable to load libtensorflow_io_plugins.so: unable to open file: libtensorflow_io_plugins.so, from paths: ['/opt/conda/lib/python3.10/site-packages/tensorflow_io/python/ops/libtensorflow_io_plugins.so']\n",
      "caused by: ['/opt/conda/lib/python3.10/site-packages/tensorflow_io/python/ops/libtensorflow_io_plugins.so: undefined symbol: _ZN3tsl6StatusC1EN10tensorflow5error4CodeESt17basic_string_viewIcSt11char_traitsIcEENS_14SourceLocationE']\n",
      "  warnings.warn(f\"unable to load libtensorflow_io_plugins.so: {e}\")\n",
      "/opt/conda/lib/python3.10/site-packages/tensorflow_io/python/ops/__init__.py:104: UserWarning: file system plugins are not loaded: unable to open file: libtensorflow_io.so, from paths: ['/opt/conda/lib/python3.10/site-packages/tensorflow_io/python/ops/libtensorflow_io.so']\n",
      "caused by: ['/opt/conda/lib/python3.10/site-packages/tensorflow_io/python/ops/libtensorflow_io.so: undefined symbol: _ZTVN10tensorflow13GcsFileSystemE']\n",
      "  warnings.warn(f\"file system plugins are not loaded: {e}\")\n"
     ]
    }
   ],
   "source": [
    "import numpy as np # linear algebra\n",
    "import pandas as pd # for data analysis\n",
    "import tensorflow as tf\n",
    "import matplotlib.pyplot as plt\n",
    "from tensorflow.keras.preprocessing.image import ImageDataGenerator"
   ]
  },
  {
   "cell_type": "code",
   "execution_count": 3,
   "id": "78d2eceb",
   "metadata": {
    "execution": {
     "iopub.execute_input": "2023-06-25T19:21:38.600321Z",
     "iopub.status.busy": "2023-06-25T19:21:38.599548Z",
     "iopub.status.idle": "2023-06-25T19:21:42.475352Z",
     "shell.execute_reply": "2023-06-25T19:21:42.474305Z"
    },
    "papermill": {
     "duration": 3.885109,
     "end_time": "2023-06-25T19:21:42.477654",
     "exception": false,
     "start_time": "2023-06-25T19:21:38.592545",
     "status": "completed"
    },
    "tags": []
   },
   "outputs": [],
   "source": [
    "# Load the datasets\n",
    "path = '/kaggle/input/digit-recognizer/'\n",
    "\n",
    "train = pd.read_csv(path + 'train.csv')\n",
    "test = pd.read_csv(path +'test.csv')"
   ]
  },
  {
   "cell_type": "markdown",
   "id": "32be41e1",
   "metadata": {
    "papermill": {
     "duration": 0.006572,
     "end_time": "2023-06-25T19:21:42.489673",
     "exception": false,
     "start_time": "2023-06-25T19:21:42.483101",
     "status": "completed"
    },
    "tags": []
   },
   "source": [
    "**Saparation of Label from the training set**"
   ]
  },
  {
   "cell_type": "code",
   "execution_count": 4,
   "id": "45e277fe",
   "metadata": {
    "execution": {
     "iopub.execute_input": "2023-06-25T19:21:42.501450Z",
     "iopub.status.busy": "2023-06-25T19:21:42.501127Z",
     "iopub.status.idle": "2023-06-25T19:21:42.565341Z",
     "shell.execute_reply": "2023-06-25T19:21:42.564082Z"
    },
    "papermill": {
     "duration": 0.072725,
     "end_time": "2023-06-25T19:21:42.567585",
     "exception": false,
     "start_time": "2023-06-25T19:21:42.494860",
     "status": "completed"
    },
    "tags": []
   },
   "outputs": [],
   "source": [
    "labels = train['label']\n",
    "train.drop(['label'], axis= 1,  inplace = True)\n"
   ]
  },
  {
   "cell_type": "code",
   "execution_count": 5,
   "id": "61a71954",
   "metadata": {
    "execution": {
     "iopub.execute_input": "2023-06-25T19:21:42.579639Z",
     "iopub.status.busy": "2023-06-25T19:21:42.579318Z",
     "iopub.status.idle": "2023-06-25T19:21:42.583832Z",
     "shell.execute_reply": "2023-06-25T19:21:42.582933Z"
    },
    "papermill": {
     "duration": 0.013284,
     "end_time": "2023-06-25T19:21:42.586388",
     "exception": false,
     "start_time": "2023-06-25T19:21:42.573104",
     "status": "completed"
    },
    "tags": []
   },
   "outputs": [],
   "source": [
    "#labels = tf.keras.utils.to_categorical(labels, num_classes = 10)\n"
   ]
  },
  {
   "cell_type": "markdown",
   "id": "f77641dd",
   "metadata": {
    "papermill": {
     "duration": 0.00522,
     "end_time": "2023-06-25T19:21:42.597137",
     "exception": false,
     "start_time": "2023-06-25T19:21:42.591917",
     "status": "completed"
    },
    "tags": []
   },
   "source": [
    "**Split the data in train and validation** set"
   ]
  },
  {
   "cell_type": "code",
   "execution_count": 6,
   "id": "c18c17d9",
   "metadata": {
    "execution": {
     "iopub.execute_input": "2023-06-25T19:21:42.609176Z",
     "iopub.status.busy": "2023-06-25T19:21:42.608803Z",
     "iopub.status.idle": "2023-06-25T19:21:42.614979Z",
     "shell.execute_reply": "2023-06-25T19:21:42.614095Z"
    },
    "papermill": {
     "duration": 0.014407,
     "end_time": "2023-06-25T19:21:42.616842",
     "exception": false,
     "start_time": "2023-06-25T19:21:42.602435",
     "status": "completed"
    },
    "tags": []
   },
   "outputs": [],
   "source": [
    "split = int(int(train.size/784)*0.99) \n",
    "train_set = train[0:split]\n",
    "val_set   = train[split:]\n",
    "train_label = labels[0:split]\n",
    "val_label   = labels[split:]"
   ]
  },
  {
   "cell_type": "markdown",
   "id": "89593a24",
   "metadata": {
    "papermill": {
     "duration": 0.00487,
     "end_time": "2023-06-25T19:21:42.627287",
     "exception": false,
     "start_time": "2023-06-25T19:21:42.622417",
     "status": "completed"
    },
    "tags": []
   },
   "source": [
    "**Changing the shape of test set and normalization of test set**"
   ]
  },
  {
   "cell_type": "code",
   "execution_count": 7,
   "id": "148009f9",
   "metadata": {
    "execution": {
     "iopub.execute_input": "2023-06-25T19:21:42.638748Z",
     "iopub.status.busy": "2023-06-25T19:21:42.638422Z",
     "iopub.status.idle": "2023-06-25T19:21:43.025846Z",
     "shell.execute_reply": "2023-06-25T19:21:43.025070Z"
    },
    "papermill": {
     "duration": 0.395577,
     "end_time": "2023-06-25T19:21:43.027858",
     "exception": false,
     "start_time": "2023-06-25T19:21:42.632281",
     "status": "completed"
    },
    "tags": []
   },
   "outputs": [],
   "source": [
    "test_set = np.array(test.values).reshape(-1, 28, 28)\n",
    "test_input = tf.image.per_image_standardization(test_set)\n",
    "\n"
   ]
  },
  {
   "cell_type": "markdown",
   "id": "23781275",
   "metadata": {
    "papermill": {
     "duration": 0.005012,
     "end_time": "2023-06-25T19:21:43.039017",
     "exception": false,
     "start_time": "2023-06-25T19:21:43.034005",
     "status": "completed"
    },
    "tags": []
   },
   "source": [
    "**Data reshapping and normalization of train and validation set of data** "
   ]
  },
  {
   "cell_type": "code",
   "execution_count": 8,
   "id": "be8127e1",
   "metadata": {
    "execution": {
     "iopub.execute_input": "2023-06-25T19:21:43.051848Z",
     "iopub.status.busy": "2023-06-25T19:21:43.051288Z",
     "iopub.status.idle": "2023-06-25T19:21:43.057366Z",
     "shell.execute_reply": "2023-06-25T19:21:43.056419Z"
    },
    "papermill": {
     "duration": 0.015148,
     "end_time": "2023-06-25T19:21:43.059606",
     "exception": false,
     "start_time": "2023-06-25T19:21:43.044458",
     "status": "completed"
    },
    "tags": []
   },
   "outputs": [],
   "source": [
    "def train_val_generators(training_images, training_labels, validation_images, validation_labels):\n",
    "  #reshaping the train and validation set\n",
    "  training_images = np.array(training_images.values).reshape(-1, 28, 28)\n",
    "  validation_images = np.array(validation_images.values).reshape(-1, 28, 28)\n",
    "  training_images = np.expand_dims(training_images,axis = -1)\n",
    "  validation_images =np.expand_dims(validation_images, axis =-1)\n",
    "    # Normalization of train and validation set \n",
    "  train_datagen = ImageDataGenerator(rescale = 1./255,\n",
    "                                    rotation_range=10,  \n",
    "                                    zoom_range = 0.1)\n",
    "    # setting the batch size to 32\n",
    "  train_generator = train_datagen.flow(x=training_images, y=training_labels, batch_size=32)\n",
    "\n",
    "  validation_datagen = ImageDataGenerator(rescale = 1./255)\n",
    "\n",
    "  validation_generator = validation_datagen.flow(x=validation_images, y=validation_labels, batch_size=32)\n",
    "\n",
    "  return train_generator, validation_generator"
   ]
  },
  {
   "cell_type": "markdown",
   "id": "2a60893e",
   "metadata": {
    "papermill": {
     "duration": 0.005032,
     "end_time": "2023-06-25T19:21:43.070425",
     "exception": false,
     "start_time": "2023-06-25T19:21:43.065393",
     "status": "completed"
    },
    "tags": []
   },
   "source": [
    "Data reshapping and normalization"
   ]
  },
  {
   "cell_type": "code",
   "execution_count": 9,
   "id": "99d4d2bd",
   "metadata": {
    "execution": {
     "iopub.execute_input": "2023-06-25T19:21:43.082637Z",
     "iopub.status.busy": "2023-06-25T19:21:43.082085Z",
     "iopub.status.idle": "2023-06-25T19:21:43.159886Z",
     "shell.execute_reply": "2023-06-25T19:21:43.159237Z"
    },
    "papermill": {
     "duration": 0.086606,
     "end_time": "2023-06-25T19:21:43.162152",
     "exception": false,
     "start_time": "2023-06-25T19:21:43.075546",
     "status": "completed"
    },
    "tags": []
   },
   "outputs": [],
   "source": [
    "train_input, val_input = train_val_generators(train_set, train_label, val_set, val_label)"
   ]
  },
  {
   "cell_type": "markdown",
   "id": "3b455bd1",
   "metadata": {
    "papermill": {
     "duration": 0.005002,
     "end_time": "2023-06-25T19:21:43.172708",
     "exception": false,
     "start_time": "2023-06-25T19:21:43.167706",
     "status": "completed"
    },
    "tags": []
   },
   "source": [
    "# Model Design\n",
    "2 convolutional layer following MaxPooling with Flatten and Desence Layer\n",
    "Softmax is being used"
   ]
  },
  {
   "cell_type": "code",
   "execution_count": 10,
   "id": "ae2815c0",
   "metadata": {
    "execution": {
     "iopub.execute_input": "2023-06-25T19:21:43.184681Z",
     "iopub.status.busy": "2023-06-25T19:21:43.184182Z",
     "iopub.status.idle": "2023-06-25T19:21:43.344882Z",
     "shell.execute_reply": "2023-06-25T19:21:43.343824Z"
    },
    "papermill": {
     "duration": 0.169289,
     "end_time": "2023-06-25T19:21:43.347061",
     "exception": false,
     "start_time": "2023-06-25T19:21:43.177772",
     "status": "completed"
    },
    "tags": []
   },
   "outputs": [
    {
     "name": "stdout",
     "output_type": "stream",
     "text": [
      "Model: \"sequential\"\n",
      "_________________________________________________________________\n",
      " Layer (type)                Output Shape              Param #   \n",
      "=================================================================\n",
      " conv2d (Conv2D)             (None, 28, 28, 32)        832       \n",
      "                                                                 \n",
      " max_pooling2d (MaxPooling2D  (None, 14, 14, 32)       0         \n",
      " )                                                               \n",
      "                                                                 \n",
      " conv2d_1 (Conv2D)           (None, 12, 12, 64)        18496     \n",
      "                                                                 \n",
      " max_pooling2d_1 (MaxPooling  (None, 6, 6, 64)         0         \n",
      " 2D)                                                             \n",
      "                                                                 \n",
      " conv2d_2 (Conv2D)           (None, 4, 4, 128)         73856     \n",
      "                                                                 \n",
      " max_pooling2d_2 (MaxPooling  (None, 2, 2, 128)        0         \n",
      " 2D)                                                             \n",
      "                                                                 \n",
      " flatten (Flatten)           (None, 512)               0         \n",
      "                                                                 \n",
      " dense (Dense)               (None, 512)               262656    \n",
      "                                                                 \n",
      " dropout (Dropout)           (None, 512)               0         \n",
      "                                                                 \n",
      " dense_1 (Dense)             (None, 64)                32832     \n",
      "                                                                 \n",
      " dense_2 (Dense)             (None, 10)                650       \n",
      "                                                                 \n",
      "=================================================================\n",
      "Total params: 389,322\n",
      "Trainable params: 389,322\n",
      "Non-trainable params: 0\n",
      "_________________________________________________________________\n"
     ]
    }
   ],
   "source": [
    "model = tf.keras.models.Sequential([\n",
    "    # Note the input shape is the desired size of the image 28x28 with 1 bytes color\n",
    "    # This is the first convolution\n",
    "    tf.keras.layers.Conv2D(32, (5,5), activation='relu',padding = 'Same', input_shape=(28, 28, 1)),\n",
    "    tf.keras.layers.MaxPooling2D(2, 2),\n",
    "    # The second convolution\n",
    "    tf.keras.layers.Conv2D(64, (3,3), activation='relu'),\n",
    "    tf.keras.layers.MaxPooling2D(2,2),\n",
    "    # The 3rd convolution\n",
    "    tf.keras.layers.Conv2D(128, (3,3), activation='relu'),\n",
    "    tf.keras.layers.MaxPooling2D(2,2),\n",
    "    tf.keras.layers.Flatten(),\n",
    "    # 512 neuron hidden layer\n",
    "    tf.keras.layers.Dense(512, activation='relu'),\n",
    "    tf.keras.layers.Dropout(.2),\n",
    "    tf.keras.layers.Dense(64, activation='relu'),\n",
    "\n",
    "    tf.keras.layers.Dense(10, activation='softmax')\n",
    "    ])\n",
    "model.summary()"
   ]
  },
  {
   "cell_type": "markdown",
   "id": "496408d4",
   "metadata": {
    "papermill": {
     "duration": 0.006936,
     "end_time": "2023-06-25T19:21:43.361381",
     "exception": false,
     "start_time": "2023-06-25T19:21:43.354445",
     "status": "completed"
    },
    "tags": []
   },
   "source": [
    "# Model Compilation\n",
    "Adam is being used as an optimizer and Sparse Categorical Cross entropy as a loss function as it has more then 2 outputs"
   ]
  },
  {
   "cell_type": "code",
   "execution_count": 11,
   "id": "3d607d48",
   "metadata": {
    "execution": {
     "iopub.execute_input": "2023-06-25T19:21:43.376816Z",
     "iopub.status.busy": "2023-06-25T19:21:43.376512Z",
     "iopub.status.idle": "2023-06-25T19:21:43.391375Z",
     "shell.execute_reply": "2023-06-25T19:21:43.390462Z"
    },
    "papermill": {
     "duration": 0.025088,
     "end_time": "2023-06-25T19:21:43.393540",
     "exception": false,
     "start_time": "2023-06-25T19:21:43.368452",
     "status": "completed"
    },
    "tags": []
   },
   "outputs": [],
   "source": [
    "model.compile(optimizer = 'Adam',\n",
    "                loss = 'sparse_categorical_crossentropy',\n",
    "                metrics=['accuracy'])"
   ]
  },
  {
   "cell_type": "markdown",
   "id": "1f4b1db6",
   "metadata": {
    "papermill": {
     "duration": 0.00668,
     "end_time": "2023-06-25T19:21:43.407517",
     "exception": false,
     "start_time": "2023-06-25T19:21:43.400837",
     "status": "completed"
    },
    "tags": []
   },
   "source": [
    "# Model Training \n",
    "finally training with cross validation set"
   ]
  },
  {
   "cell_type": "code",
   "execution_count": 12,
   "id": "8798598a",
   "metadata": {
    "execution": {
     "iopub.execute_input": "2023-06-25T19:21:43.422903Z",
     "iopub.status.busy": "2023-06-25T19:21:43.422557Z",
     "iopub.status.idle": "2023-06-25T19:27:35.519772Z",
     "shell.execute_reply": "2023-06-25T19:27:35.518713Z"
    },
    "papermill": {
     "duration": 352.108188,
     "end_time": "2023-06-25T19:27:35.522555",
     "exception": false,
     "start_time": "2023-06-25T19:21:43.414367",
     "status": "completed"
    },
    "tags": []
   },
   "outputs": [
    {
     "name": "stdout",
     "output_type": "stream",
     "text": [
      "Epoch 1/10\n",
      "1300/1300 [==============================] - 31s 23ms/step - loss: 0.1894 - accuracy: 0.9395 - val_loss: 0.0625 - val_accuracy: 0.9810\n",
      "Epoch 2/10\n",
      "1300/1300 [==============================] - 29s 22ms/step - loss: 0.0639 - accuracy: 0.9801 - val_loss: 0.0283 - val_accuracy: 0.9929\n",
      "Epoch 3/10\n",
      "1300/1300 [==============================] - 30s 23ms/step - loss: 0.0444 - accuracy: 0.9873 - val_loss: 0.0215 - val_accuracy: 0.9952\n",
      "Epoch 4/10\n",
      "1300/1300 [==============================] - 29s 22ms/step - loss: 0.0419 - accuracy: 0.9874 - val_loss: 0.0384 - val_accuracy: 0.9929\n",
      "Epoch 5/10\n",
      "1300/1300 [==============================] - 30s 23ms/step - loss: 0.0351 - accuracy: 0.9895 - val_loss: 0.0745 - val_accuracy: 0.9905\n",
      "Epoch 6/10\n",
      "1300/1300 [==============================] - 29s 23ms/step - loss: 0.0295 - accuracy: 0.9909 - val_loss: 0.0463 - val_accuracy: 0.9905\n",
      "Epoch 7/10\n",
      "1300/1300 [==============================] - 29s 22ms/step - loss: 0.0287 - accuracy: 0.9912 - val_loss: 0.0237 - val_accuracy: 0.9929\n",
      "Epoch 8/10\n",
      "1300/1300 [==============================] - 29s 22ms/step - loss: 0.0249 - accuracy: 0.9923 - val_loss: 0.0439 - val_accuracy: 0.9905\n",
      "Epoch 9/10\n",
      "1300/1300 [==============================] - 30s 23ms/step - loss: 0.0220 - accuracy: 0.9931 - val_loss: 0.0353 - val_accuracy: 0.9952\n",
      "Epoch 10/10\n",
      "1300/1300 [==============================] - 29s 22ms/step - loss: 0.0234 - accuracy: 0.9930 - val_loss: 0.0371 - val_accuracy: 0.9929\n"
     ]
    }
   ],
   "source": [
    "history = model.fit(train_input, epochs=10,validation_data=val_input)\n"
   ]
  },
  {
   "cell_type": "markdown",
   "id": "f5a4c836",
   "metadata": {
    "papermill": {
     "duration": 0.256812,
     "end_time": "2023-06-25T19:27:36.095114",
     "exception": false,
     "start_time": "2023-06-25T19:27:35.838302",
     "status": "completed"
    },
    "tags": []
   },
   "source": [
    "# Plot accuracy , loss:\n",
    "\n",
    "Plot the chart for accuracy and loss on both training and validation\n"
   ]
  },
  {
   "cell_type": "code",
   "execution_count": 13,
   "id": "a3f42380",
   "metadata": {
    "execution": {
     "iopub.execute_input": "2023-06-25T19:27:36.609104Z",
     "iopub.status.busy": "2023-06-25T19:27:36.608742Z",
     "iopub.status.idle": "2023-06-25T19:27:37.041968Z",
     "shell.execute_reply": "2023-06-25T19:27:37.041286Z"
    },
    "papermill": {
     "duration": 0.692144,
     "end_time": "2023-06-25T19:27:37.043535",
     "exception": false,
     "start_time": "2023-06-25T19:27:36.351391",
     "status": "completed"
    },
    "tags": []
   },
   "outputs": [
    {
     "data": {
      "image/png": "[encoded data removed]",
      "text/plain": [
       "<Figure size 640x480 with 1 Axes>"
      ]
     },
     "metadata": {},
     "output_type": "display_data"
    },
    {
     "data": {
      "image/png": "[encoded data removed]",
      "text/plain": [
       "<Figure size 640x480 with 1 Axes>"
      ]
     },
     "metadata": {},
     "output_type": "display_data"
    }
   ],
   "source": [
    "acc = history.history['accuracy']\n",
    "val_acc = history.history['val_accuracy']\n",
    "loss = history.history['loss']\n",
    "val_loss = history.history['val_loss']\n",
    "\n",
    "epochs = range(len(acc))\n",
    "\n",
    "plt.plot(epochs, acc, 'r', label='Training accuracy')\n",
    "plt.plot(epochs, val_acc, 'b', label='Validation accuracy')\n",
    "plt.title('Training and validation accuracy')\n",
    "plt.legend()\n",
    "plt.figure()\n",
    "\n",
    "plt.plot(epochs, loss, 'r', label='Training Loss')\n",
    "plt.plot(epochs, val_loss, 'b', label='Validation Loss')\n",
    "plt.title('Training and validation loss')\n",
    "plt.legend()\n",
    "\n",
    "plt.show()"
   ]
  },
  {
   "cell_type": "markdown",
   "id": "3f3b65f0",
   "metadata": {
    "papermill": {
     "duration": 0.255093,
     "end_time": "2023-06-25T19:27:37.556081",
     "exception": false,
     "start_time": "2023-06-25T19:27:37.300988",
     "status": "completed"
    },
    "tags": []
   },
   "source": [
    "# Prediction\n",
    "Prediction of Test data "
   ]
  },
  {
   "cell_type": "code",
   "execution_count": 14,
   "id": "0c5e695e",
   "metadata": {
    "execution": {
     "iopub.execute_input": "2023-06-25T19:27:38.146249Z",
     "iopub.status.busy": "2023-06-25T19:27:38.145350Z",
     "iopub.status.idle": "2023-06-25T19:27:45.028054Z",
     "shell.execute_reply": "2023-06-25T19:27:45.026680Z"
    },
    "papermill": {
     "duration": 7.14905,
     "end_time": "2023-06-25T19:27:45.030820",
     "exception": false,
     "start_time": "2023-06-25T19:27:37.881770",
     "status": "completed"
    },
    "tags": []
   },
   "outputs": [
    {
     "name": "stdout",
     "output_type": "stream",
     "text": [
      "875/875 [==============================] - 7s 7ms/step\n"
     ]
    }
   ],
   "source": [
    "prediction = model.predict(test_input)"
   ]
  },
  {
   "cell_type": "markdown",
   "id": "7d1f488e",
   "metadata": {
    "papermill": {
     "duration": 0.264653,
     "end_time": "2023-06-25T19:27:45.558526",
     "exception": false,
     "start_time": "2023-06-25T19:27:45.293873",
     "status": "completed"
    },
    "tags": []
   },
   "source": [
    "# Plot\n",
    "show the first 10 samples of the images "
   ]
  },
  {
   "cell_type": "code",
   "execution_count": 15,
   "id": "dd28eec3",
   "metadata": {
    "execution": {
     "iopub.execute_input": "2023-06-25T19:27:46.086315Z",
     "iopub.status.busy": "2023-06-25T19:27:46.085686Z",
     "iopub.status.idle": "2023-06-25T19:27:46.584689Z",
     "shell.execute_reply": "2023-06-25T19:27:46.583689Z"
    },
    "papermill": {
     "duration": 0.765255,
     "end_time": "2023-06-25T19:27:46.586619",
     "exception": false,
     "start_time": "2023-06-25T19:27:45.821364",
     "status": "completed"
    },
    "tags": []
   },
   "outputs": [
    {
     "data": {
      "image/png": "[encoded data removed]",
      "text/plain": [
       "<Figure size 500x500 with 10 Axes>"
      ]
     },
     "metadata": {},
     "output_type": "display_data"
    }
   ],
   "source": [
    "figure, axes = plt.subplots(2, 5, figsize=(5, 5))\n",
    "axes = axes.ravel()\n",
    "\n",
    "for index in range(0,10):\n",
    "    axes[index].imshow(test_input[index+10])\n",
    "    axes[index].set_title(np.argmax(prediction[index+10]))\n",
    "    axes[index].axis(\"off\")"
   ]
  },
  {
   "cell_type": "code",
   "execution_count": 16,
   "id": "7e3cfab0",
   "metadata": {
    "execution": {
     "iopub.execute_input": "2023-06-25T19:27:47.177679Z",
     "iopub.status.busy": "2023-06-25T19:27:47.176437Z",
     "iopub.status.idle": "2023-06-25T19:27:47.217758Z",
     "shell.execute_reply": "2023-06-25T19:27:47.216977Z"
    },
    "papermill": {
     "duration": 0.309634,
     "end_time": "2023-06-25T19:27:47.219860",
     "exception": false,
     "start_time": "2023-06-25T19:27:46.910226",
     "status": "completed"
    },
    "tags": []
   },
   "outputs": [],
   "source": [
    "predicted_labels = np.argmax(prediction, axis=1)\n",
    "data_df = {'Label': predicted_labels}\n",
    "solution = pd.DataFrame(data=data_df, index=pd.RangeIndex(start=1, stop=len(test)+1, name='ImageId'))\n",
    "solution.to_csv('submission.csv')\n"
   ]
  }
 ],
 "metadata": {
  "kernelspec": {
   "display_name": "Python 3",
   "language": "python",
   "name": "python3"
  },
  "language_info": {
   "codemirror_mode": {
    "name": "ipython",
    "version": 3
   },
   "file_extension": ".py",
   "mimetype": "text/x-python",
   "name": "python",
   "nbconvert_exporter": "python",
   "pygments_lexer": "ipython3",
   "version": "3.10.10"
  },
  "papermill": {
   "default_parameters": {},
   "duration": 390.603146,
   "end_time": "2023-06-25T19:27:51.066877",
   "environment_variables": {},
   "exception": null,
   "input_path": "__notebook__.ipynb",
   "output_path": "__notebook__.ipynb",
   "parameters": {},
   "start_time": "2023-06-25T19:21:20.463731",
   "version": "2.4.0"
  }
 },
 "nbformat": 4,
 "nbformat_minor": 5
}
